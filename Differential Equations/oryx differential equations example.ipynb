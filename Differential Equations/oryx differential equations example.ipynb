{
 "cells": [
  {
   "cell_type": "markdown",
   "metadata": {},
   "source": [
    "I will show how to solve a classical problem of modeling a oryx population using differential equations. The problem says:\n",
    "\n",
    "An African government is trying to come up with a good policy regarding the hunting of oryx. They are using the following model: the oryx population has a natural rowth rate of k years^-1, and there is assumed a constant harvesting rate of a oryxes/year. Tasks:\n",
    "\n",
    "Write down a model for the oryx population.\n",
    "Suppose a=0. What is the doubling time?\n",
    "Find the general solution of this equation.\n",
    "Check that the proposed solution satisfies the ODE.\n",
    "There is a constant solution. Find it.\n",
    "Graph the constant solution (equilibrium) and some others, Why, in this case, do we say the constant solution is “unstable”?"
   ]
  },
  {
   "cell_type": "markdown",
   "metadata": {},
   "source": [
    "So we have:\n",
    "\n",
    "- Growth rate: $k\\, {year}^{-1}$\n",
    "\n",
    "- Harvesting rate: $a\\, \\frac{oryxes}{year}$\n",
    "\n",
    "Let $x=x(t)$ be the population of oryxes at time $t$.\n",
    "\n",
    "We can think as the change of oryxe population in a time interval $\\delta{t}$ to be the result of the growth rate multiplied by the current population $x$ and by the time interval. And the decrease in population represented with a minus sign with the harvesting rate multiplied by the time interval. So we have:\n",
    "  \\begin{align}\n",
    "  \\Delta{x} &= k*x*\\Delta{t}-a*\\Delta{t}  \\\\\n",
    "  \\frac{\\Delta{x}}{\\Delta{t}} &= k*x\n",
    "  \\end{align}"
   ]
  },
  {
   "cell_type": "code",
   "execution_count": null,
   "metadata": {},
   "outputs": [],
   "source": []
  }
 ],
 "metadata": {
  "kernelspec": {
   "display_name": "Python 3",
   "language": "python",
   "name": "python3"
  },
  "language_info": {
   "codemirror_mode": {
    "name": "ipython",
    "version": 3
   },
   "file_extension": ".py",
   "mimetype": "text/x-python",
   "name": "python",
   "nbconvert_exporter": "python",
   "pygments_lexer": "ipython3",
   "version": "3.8.3"
  }
 },
 "nbformat": 4,
 "nbformat_minor": 4
}
